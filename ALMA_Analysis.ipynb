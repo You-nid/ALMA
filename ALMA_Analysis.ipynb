{
  "nbformat": 4,
  "nbformat_minor": 0,
  "metadata": {
    "colab": {
      "name": "ALMA Analysis.ipynb",
      "provenance": [],
      "collapsed_sections": [
        "3XG_xuXtiB2p"
      ]
    },
    "kernelspec": {
      "display_name": "Python 3",
      "name": "python3"
    },
    "language_info": {
      "name": "python"
    }
  },
  "cells": [
    {
      "cell_type": "markdown",
      "metadata": {
        "id": "20e6WtT6E1jL"
      },
      "source": [
        "#Ejemlpo del análisis de ALMA\n",
        "***\n",
        "Este notebook explicará parte del funcionamiento de ALMA con dos paginas de web diferentes."
      ]
    },
    {
      "cell_type": "markdown",
      "metadata": {
        "id": "vawRX5vMG_tP"
      },
      "source": [
        "# Extracción de los datos de la pagina \n",
        "***\n",
        "Dos Paginas:\n",
        "* https://www.diabetes.org.uk/about_us/news/new-worse-cases-coronavirus\n",
        "\n",
        "* https://journals.plos.org/plosmedicine/article?id=10.1371/journal.pmed.1003797\n"
      ]
    },
    {
      "cell_type": "markdown",
      "metadata": {
        "id": "lY5hu3DNHH4e"
      },
      "source": [
        "## Feature-based text summarization\n",
        "\n",
        "***\n",
        "Aquí hemos usado el Algoritmo de Luhn's\n"
      ]
    },
    {
      "cell_type": "code",
      "metadata": {
        "id": "vt215cziErqv",
        "colab": {
          "base_uri": "https://localhost:8080/"
        },
        "outputId": "2dde7f8d-008a-4706-c0c4-ffc9e0948f6e"
      },
      "source": [
        "!pip install sumy\n",
        "!pip install collections"
      ],
      "execution_count": null,
      "outputs": [
        {
          "output_type": "stream",
          "name": "stdout",
          "text": [
            "Collecting sumy\n",
            "  Downloading sumy-0.9.0-py2.py3-none-any.whl (87 kB)\n",
            "\u001b[?25l\r\u001b[K     |███▊                            | 10 kB 19.2 MB/s eta 0:00:01\r\u001b[K     |███████▌                        | 20 kB 11.4 MB/s eta 0:00:01\r\u001b[K     |███████████▏                    | 30 kB 8.6 MB/s eta 0:00:01\r\u001b[K     |███████████████                 | 40 kB 8.0 MB/s eta 0:00:01\r\u001b[K     |██████████████████▋             | 51 kB 5.2 MB/s eta 0:00:01\r\u001b[K     |██████████████████████▍         | 61 kB 5.3 MB/s eta 0:00:01\r\u001b[K     |██████████████████████████      | 71 kB 5.1 MB/s eta 0:00:01\r\u001b[K     |█████████████████████████████▉  | 81 kB 5.7 MB/s eta 0:00:01\r\u001b[K     |████████████████████████████████| 87 kB 3.2 MB/s \n",
            "\u001b[?25hCollecting pycountry>=18.2.23\n",
            "  Downloading pycountry-20.7.3.tar.gz (10.1 MB)\n",
            "\u001b[K     |████████████████████████████████| 10.1 MB 37.4 MB/s \n",
            "\u001b[?25hRequirement already satisfied: docopt<0.7,>=0.6.1 in /usr/local/lib/python3.7/dist-packages (from sumy) (0.6.2)\n",
            "Requirement already satisfied: requests>=2.7.0 in /usr/local/lib/python3.7/dist-packages (from sumy) (2.23.0)\n",
            "Collecting breadability>=0.1.20\n",
            "  Downloading breadability-0.1.20.tar.gz (32 kB)\n",
            "Requirement already satisfied: nltk>=3.0.2 in /usr/local/lib/python3.7/dist-packages (from sumy) (3.2.5)\n",
            "Requirement already satisfied: chardet in /usr/local/lib/python3.7/dist-packages (from breadability>=0.1.20->sumy) (3.0.4)\n",
            "Requirement already satisfied: lxml>=2.0 in /usr/local/lib/python3.7/dist-packages (from breadability>=0.1.20->sumy) (4.2.6)\n",
            "Requirement already satisfied: six in /usr/local/lib/python3.7/dist-packages (from nltk>=3.0.2->sumy) (1.15.0)\n",
            "Requirement already satisfied: urllib3!=1.25.0,!=1.25.1,<1.26,>=1.21.1 in /usr/local/lib/python3.7/dist-packages (from requests>=2.7.0->sumy) (1.24.3)\n",
            "Requirement already satisfied: idna<3,>=2.5 in /usr/local/lib/python3.7/dist-packages (from requests>=2.7.0->sumy) (2.10)\n",
            "Requirement already satisfied: certifi>=2017.4.17 in /usr/local/lib/python3.7/dist-packages (from requests>=2.7.0->sumy) (2021.10.8)\n",
            "Building wheels for collected packages: breadability, pycountry\n",
            "  Building wheel for breadability (setup.py) ... \u001b[?25l\u001b[?25hdone\n",
            "  Created wheel for breadability: filename=breadability-0.1.20-py2.py3-none-any.whl size=21711 sha256=c308cbddc48b62207cad8dd7fbcd47b3a32ad047a5cc2f20121084809a77173e\n",
            "  Stored in directory: /root/.cache/pip/wheels/d4/bf/51/81d27ad638e1a6dca4f362ecc33d1e2c764b8ea7ec751b8fc1\n",
            "  Building wheel for pycountry (setup.py) ... \u001b[?25l\u001b[?25hdone\n",
            "  Created wheel for pycountry: filename=pycountry-20.7.3-py2.py3-none-any.whl size=10746883 sha256=68c250aaaa40c9c39a918e43b50640a639db9eedf6d1fe94d1b77321fba679c9\n",
            "  Stored in directory: /root/.cache/pip/wheels/57/e8/3f/120ccc1ff7541c108bc5d656e2a14c39da0d824653b62284c6\n",
            "Successfully built breadability pycountry\n",
            "Installing collected packages: pycountry, breadability, sumy\n",
            "Successfully installed breadability-0.1.20 pycountry-20.7.3 sumy-0.9.0\n",
            "\u001b[31mERROR: Could not find a version that satisfies the requirement collections (from versions: none)\u001b[0m\n",
            "\u001b[31mERROR: No matching distribution found for collections\u001b[0m\n"
          ]
        }
      ]
    },
    {
      "cell_type": "code",
      "metadata": {
        "id": "x6lB9sfOHe7i",
        "colab": {
          "base_uri": "https://localhost:8080/"
        },
        "outputId": "4e972f7c-05e2-4835-e624-2780b4a861d4"
      },
      "source": [
        "from sumy.parsers.html import HtmlParser\n",
        "from sumy.parsers.plaintext import PlaintextParser\n",
        "from sumy.nlp.tokenizers import Tokenizer\n",
        "from sumy.summarizers.lsa import LsaSummarizer\n",
        "from sumy.nlp.stemmers import Stemmer\n",
        "from sumy.utils import get_stop_words\n",
        "from sumy.summarizers.luhn import LuhnSummarizer\n",
        "import nltk\n",
        "nltk.download('punkt')\n",
        "import collections"
      ],
      "execution_count": null,
      "outputs": [
        {
          "output_type": "stream",
          "name": "stdout",
          "text": [
            "[nltk_data] Downloading package punkt to /root/nltk_data...\n",
            "[nltk_data]   Unzipping tokenizers/punkt.zip.\n"
          ]
        }
      ]
    },
    {
      "cell_type": "markdown",
      "metadata": {
        "id": "o2IKtQDOh-6f"
      },
      "source": [
        "### El primer enlace "
      ]
    },
    {
      "cell_type": "code",
      "metadata": {
        "id": "9wKCPutMHkma",
        "colab": {
          "base_uri": "https://localhost:8080/"
        },
        "outputId": "385df18e-6b85-4e7c-a049-c85d6f91f38a"
      },
      "source": [
        "LANGUAGE = \"english\"\n",
        "SENTENCES_COUNT = 10\n",
        "url=\"https://journals.plos.org/plosmedicine/article?id=10.1371/journal.pmed.1003797\"\n",
        "parser = HtmlParser.from_url(url, Tokenizer(LANGUAGE))\n",
        "summarizer = LsaSummarizer()\n",
        "summarizer = LsaSummarizer(Stemmer(LANGUAGE))\n",
        "summarizer.stop_words = get_stop_words(LANGUAGE)\n",
        "\n",
        "text1 = \"\"\n",
        "text_1 = []\n",
        "for sentence in summarizer(parser.document, SENTENCES_COUNT):\n",
        "  text_1.append(str(sentence))\n",
        "  \n",
        "for sentence in summarizer(parser.document, SENTENCES_COUNT):\n",
        "  print(sentence)"
      ],
      "execution_count": null,
      "outputs": [
        {
          "output_type": "stream",
          "name": "stdout",
          "text": [
            "Many problems underscored by the Coronavirus Disease 2019 (COVID-19) pandemic, and highlighted in other papers in this collection [ 1 ], center on addressing the grossly unequal availability of vaccine around the world.\n",
            "Three decades ago, HIV presented an urgent, complex, dynamic, and wicked threat to health around the world in which global inequities were stark and unacceptable.\n",
            "At the time, lifesaving antiretroviral therapy was available only in high-income countries, where it was expensive, delivered by highly trained specialists, and accompanied by sophisticated monitoring requirements (e.g., quantitative HIV plasma RNA levels and genotypical analysis).\n",
            "A few advocated a larger scope (i.e., global progress on a wider range of health conditions), while many championed smaller and “more feasible” objectives, (i.e., emphasizing prevention only without treatment).\n",
            "The Joint United Nations Programme on HIV/AIDS (UNAIDS) was established in 1994 through a UN resolution approved by all 193 member states to provide coordinated and aligned actions on HIV at the highest levels.\n",
            "While subject to a range of criticisms (e.g., the cascade does not represent time, real journeys are cyclical), the heuristic rapidly became a universal mental model of the implementation needs for success in the global treatment response for HIV.\n",
            "While the institutional arrangements may take various forms, a high-level UN meeting to establish a common agenda for equity in the global COVID-19 response attended by all 193 member states—as has been done before for HIV, TB, noncommunicable diseases, and antimicrobial resistance—is a minimum step.\n",
            "Like the HIV cascade, consensus for a more equitable COVID-19 response must be accompanied by meaningful, interpretable, publicly facing, and credible metrics that explicitly depict equity [ 11 ].\n",
            "Such shared mental models of the roadmap, in turn, can be used to demand concrete commitments from global agencies, national governments, and other actors, including from industry.\n",
            "Joshi A, Amadi C, Katz B, Kulkarni S, Nash D. A Human-Centered Platform for HIV Infection Reduction in New York: Development and Usage Analysis of the Ending the Epidemic (ETE) Dashboard.\n"
          ]
        }
      ]
    },
    {
      "cell_type": "code",
      "metadata": {
        "id": "Spp5Ht2Y1A-9",
        "colab": {
          "base_uri": "https://localhost:8080/",
          "height": 359
        },
        "outputId": "b425570f-889a-48bd-e4b9-56be61ceda76"
      },
      "source": [
        "import numpy as np\n",
        "import pandas as pd \n",
        "import string\n",
        "import re  \n",
        "\n",
        "df_t = pd.DataFrame (str(text_1).split(\".\") for  sent in text_1)\n",
        "\n",
        "df_t['Sentences'] = df_t.iloc[0]\n",
        "index = np.arange(0, 10)\n",
        "df_t2 = pd.DataFrame (index= index, columns = ['Sentences'])\n",
        "df_t2['Sentences'] = df_t['Sentences'].str.replace('[^\\w\\s]', '')\n",
        "df_t2"
      ],
      "execution_count": null,
      "outputs": [
        {
          "output_type": "execute_result",
          "data": {
            "text/html": [
              "<div>\n",
              "<style scoped>\n",
              "    .dataframe tbody tr th:only-of-type {\n",
              "        vertical-align: middle;\n",
              "    }\n",
              "\n",
              "    .dataframe tbody tr th {\n",
              "        vertical-align: top;\n",
              "    }\n",
              "\n",
              "    .dataframe thead th {\n",
              "        text-align: right;\n",
              "    }\n",
              "</style>\n",
              "<table border=\"1\" class=\"dataframe\">\n",
              "  <thead>\n",
              "    <tr style=\"text-align: right;\">\n",
              "      <th></th>\n",
              "      <th>Sentences</th>\n",
              "    </tr>\n",
              "  </thead>\n",
              "  <tbody>\n",
              "    <tr>\n",
              "      <th>0</th>\n",
              "      <td>Many problems underscored by the Coronavirus D...</td>\n",
              "    </tr>\n",
              "    <tr>\n",
              "      <th>1</th>\n",
              "      <td>Three decades ago HIV presented an urgent com...</td>\n",
              "    </tr>\n",
              "    <tr>\n",
              "      <th>2</th>\n",
              "      <td>At the time lifesaving antiretroviral therapy...</td>\n",
              "    </tr>\n",
              "    <tr>\n",
              "      <th>3</th>\n",
              "      <td>g</td>\n",
              "    </tr>\n",
              "    <tr>\n",
              "      <th>4</th>\n",
              "      <td>quantitative HIV plasma RNA levels and genoty...</td>\n",
              "    </tr>\n",
              "    <tr>\n",
              "      <th>5</th>\n",
              "      <td>A few advocated a larger scope i</td>\n",
              "    </tr>\n",
              "    <tr>\n",
              "      <th>6</th>\n",
              "      <td>e</td>\n",
              "    </tr>\n",
              "    <tr>\n",
              "      <th>7</th>\n",
              "      <td>global progress on a wider range of health co...</td>\n",
              "    </tr>\n",
              "    <tr>\n",
              "      <th>8</th>\n",
              "      <td>e</td>\n",
              "    </tr>\n",
              "    <tr>\n",
              "      <th>9</th>\n",
              "      <td>emphasizing prevention only without treatment</td>\n",
              "    </tr>\n",
              "  </tbody>\n",
              "</table>\n",
              "</div>"
            ],
            "text/plain": [
              "                                           Sentences\n",
              "0  Many problems underscored by the Coronavirus D...\n",
              "1   Three decades ago HIV presented an urgent com...\n",
              "2   At the time lifesaving antiretroviral therapy...\n",
              "3                                                  g\n",
              "4   quantitative HIV plasma RNA levels and genoty...\n",
              "5                   A few advocated a larger scope i\n",
              "6                                                  e\n",
              "7   global progress on a wider range of health co...\n",
              "8                                                  e\n",
              "9      emphasizing prevention only without treatment"
            ]
          },
          "metadata": {},
          "execution_count": 4
        }
      ]
    },
    {
      "cell_type": "markdown",
      "metadata": {
        "id": "3XG_xuXtiB2p"
      },
      "source": [
        "## El segundo enlace "
      ]
    },
    {
      "cell_type": "code",
      "metadata": {
        "id": "tREqitMriBpz"
      },
      "source": [
        "LANGUAGE = \"english\"\n",
        "SENTENCES_COUNT = 10\n",
        "url=\"https://journals.plos.org/plosmedicine/article?id=10.1371/journal.pmed.1003797\"\n",
        "parser = HtmlParser.from_url(url, Tokenizer(LANGUAGE))\n",
        "summarizer = LsaSummarizer()\n",
        "summarizer = LsaSummarizer(Stemmer(LANGUAGE))\n",
        "summarizer.stop_words = get_stop_words(LANGUAGE)\n",
        "for sentence in summarizer(parser.document, SENTENCES_COUNT):\n",
        "  print(sentence)"
      ],
      "execution_count": null,
      "outputs": []
    },
    {
      "cell_type": "code",
      "metadata": {
        "id": "SwSHibamjKOi"
      },
      "source": [
        "text_2 = []\n",
        "for sentence in summarizer(parser.document, SENTENCES_COUNT):\n",
        "  text_2.append(sentence)\n",
        "\n",
        "text_2"
      ],
      "execution_count": null,
      "outputs": []
    },
    {
      "cell_type": "code",
      "metadata": {
        "colab": {
          "base_uri": "https://localhost:8080/",
          "height": 359
        },
        "id": "KSGJxE5s39Bk",
        "outputId": "55fb5348-6322-4609-c43c-f1508a3a8ee7"
      },
      "source": [
        "import pandas as pd\n",
        "import numpy as np\n",
        "import string\n",
        "import re  \n",
        "\n",
        "df_t1 = pd.DataFrame (str(text_2).split(\".\") for  sent in text_2)\n",
        "\n",
        "df_t1['Sentences'] = df_t1.iloc[0]\n",
        "index = np.arange(0, 10)\n",
        "df_t3 = pd.DataFrame (index= index, columns = ['Sentences'])\n",
        "df_t3['Sentences'] = df_t1['Sentences'].str.replace('[^\\w\\s]', '')\n",
        "\n",
        "df_t3"
      ],
      "execution_count": null,
      "outputs": [
        {
          "output_type": "execute_result",
          "data": {
            "text/html": [
              "<div>\n",
              "<style scoped>\n",
              "    .dataframe tbody tr th:only-of-type {\n",
              "        vertical-align: middle;\n",
              "    }\n",
              "\n",
              "    .dataframe tbody tr th {\n",
              "        vertical-align: top;\n",
              "    }\n",
              "\n",
              "    .dataframe thead th {\n",
              "        text-align: right;\n",
              "    }\n",
              "</style>\n",
              "<table border=\"1\" class=\"dataframe\">\n",
              "  <thead>\n",
              "    <tr style=\"text-align: right;\">\n",
              "      <th></th>\n",
              "      <th>Sentences</th>\n",
              "    </tr>\n",
              "  </thead>\n",
              "  <tbody>\n",
              "    <tr>\n",
              "      <th>0</th>\n",
              "      <td>Sentence Many problems underscored by the Coro...</td>\n",
              "    </tr>\n",
              "    <tr>\n",
              "      <th>1</th>\n",
              "      <td>Sentence Three decades ago HIV presented an u...</td>\n",
              "    </tr>\n",
              "    <tr>\n",
              "      <th>2</th>\n",
              "      <td>Sentence At the time lifesaving antiretrovira...</td>\n",
              "    </tr>\n",
              "    <tr>\n",
              "      <th>3</th>\n",
              "      <td>g</td>\n",
              "    </tr>\n",
              "    <tr>\n",
              "      <th>4</th>\n",
              "      <td>quantitative HIV plasma RNA levels and genoty...</td>\n",
              "    </tr>\n",
              "    <tr>\n",
              "      <th>5</th>\n",
              "      <td>Sentence A few advocated a larger scope i</td>\n",
              "    </tr>\n",
              "    <tr>\n",
              "      <th>6</th>\n",
              "      <td>e</td>\n",
              "    </tr>\n",
              "    <tr>\n",
              "      <th>7</th>\n",
              "      <td>global progress on a wider range of health co...</td>\n",
              "    </tr>\n",
              "    <tr>\n",
              "      <th>8</th>\n",
              "      <td>e</td>\n",
              "    </tr>\n",
              "    <tr>\n",
              "      <th>9</th>\n",
              "      <td>emphasizing prevention only without treatment</td>\n",
              "    </tr>\n",
              "  </tbody>\n",
              "</table>\n",
              "</div>"
            ],
            "text/plain": [
              "                                           Sentences\n",
              "0  Sentence Many problems underscored by the Coro...\n",
              "1   Sentence Three decades ago HIV presented an u...\n",
              "2   Sentence At the time lifesaving antiretrovira...\n",
              "3                                                  g\n",
              "4   quantitative HIV plasma RNA levels and genoty...\n",
              "5          Sentence A few advocated a larger scope i\n",
              "6                                                  e\n",
              "7   global progress on a wider range of health co...\n",
              "8                                                  e\n",
              "9      emphasizing prevention only without treatment"
            ]
          },
          "metadata": {},
          "execution_count": 155
        }
      ]
    },
    {
      "cell_type": "markdown",
      "metadata": {
        "id": "hqQs5czkG-w8"
      },
      "source": [
        "#Sentiment Analysis\n",
        "Aquí ALMA analiza el grado de negatividad de cada fuente y da un grado final. Si la pagina tiene resultados negativos más que positivos, pues la pagina no es fiable y no debe confiar en su información \n",
        "***\n",
        "* Grado < 0: Negativo\n",
        "* Grado = 0: Neutral\n",
        "* Grado > 0: Positivo"
      ]
    },
    {
      "cell_type": "code",
      "metadata": {
        "colab": {
          "base_uri": "https://localhost:8080/"
        },
        "id": "xMxWb__NlJeo",
        "outputId": "4e92e412-c69b-4608-d7d3-55e7d2bcd090"
      },
      "source": [
        "!pip install vaderSentiment"
      ],
      "execution_count": null,
      "outputs": [
        {
          "output_type": "stream",
          "name": "stdout",
          "text": [
            "Collecting vaderSentiment\n",
            "  Downloading vaderSentiment-3.3.2-py2.py3-none-any.whl (125 kB)\n",
            "\u001b[?25l\r\u001b[K     |██▋                             | 10 kB 18.6 MB/s eta 0:00:01\r\u001b[K     |█████▏                          | 20 kB 23.1 MB/s eta 0:00:01\r\u001b[K     |███████▉                        | 30 kB 13.3 MB/s eta 0:00:01\r\u001b[K     |██████████▍                     | 40 kB 9.6 MB/s eta 0:00:01\r\u001b[K     |█████████████                   | 51 kB 5.2 MB/s eta 0:00:01\r\u001b[K     |███████████████▋                | 61 kB 5.7 MB/s eta 0:00:01\r\u001b[K     |██████████████████▏             | 71 kB 5.5 MB/s eta 0:00:01\r\u001b[K     |████████████████████▉           | 81 kB 6.1 MB/s eta 0:00:01\r\u001b[K     |███████████████████████▍        | 92 kB 4.6 MB/s eta 0:00:01\r\u001b[K     |██████████████████████████      | 102 kB 5.0 MB/s eta 0:00:01\r\u001b[K     |████████████████████████████▋   | 112 kB 5.0 MB/s eta 0:00:01\r\u001b[K     |███████████████████████████████▏| 122 kB 5.0 MB/s eta 0:00:01\r\u001b[K     |████████████████████████████████| 125 kB 5.0 MB/s \n",
            "\u001b[?25hRequirement already satisfied: requests in /usr/local/lib/python3.7/dist-packages (from vaderSentiment) (2.23.0)\n",
            "Requirement already satisfied: idna<3,>=2.5 in /usr/local/lib/python3.7/dist-packages (from requests->vaderSentiment) (2.10)\n",
            "Requirement already satisfied: chardet<4,>=3.0.2 in /usr/local/lib/python3.7/dist-packages (from requests->vaderSentiment) (3.0.4)\n",
            "Requirement already satisfied: urllib3!=1.25.0,!=1.25.1,<1.26,>=1.21.1 in /usr/local/lib/python3.7/dist-packages (from requests->vaderSentiment) (1.24.3)\n",
            "Requirement already satisfied: certifi>=2017.4.17 in /usr/local/lib/python3.7/dist-packages (from requests->vaderSentiment) (2021.10.8)\n",
            "Installing collected packages: vaderSentiment\n",
            "Successfully installed vaderSentiment-3.3.2\n"
          ]
        }
      ]
    },
    {
      "cell_type": "code",
      "metadata": {
        "id": "Wc07bXvEHIRU",
        "colab": {
          "base_uri": "https://localhost:8080/",
          "height": 495
        },
        "outputId": "547a1bd4-8509-40e1-9d36-b95ad64152b5"
      },
      "source": [
        "import numpy as np\n",
        "import pandas as pd\n",
        "import matplotlib.pyplot as plt\n",
        "%matplotlib inline\n",
        "from nltk.corpus import stopwords\n",
        "from textblob import TextBlob\n",
        "from textblob import Word\n",
        "from wordcloud import WordCloud\n",
        "from wordcloud import STOPWORDS\n",
        "df = pd.DataFrame(data = df_t2)\n",
        "df.info()\n",
        "df.head(10)"
      ],
      "execution_count": null,
      "outputs": [
        {
          "output_type": "stream",
          "name": "stdout",
          "text": [
            "<class 'pandas.core.frame.DataFrame'>\n",
            "Int64Index: 10 entries, 0 to 9\n",
            "Data columns (total 1 columns):\n",
            " #   Column     Non-Null Count  Dtype \n",
            "---  ------     --------------  ----- \n",
            " 0   Sentences  10 non-null     object\n",
            "dtypes: object(1)\n",
            "memory usage: 160.0+ bytes\n"
          ]
        },
        {
          "output_type": "execute_result",
          "data": {
            "text/html": [
              "<div>\n",
              "<style scoped>\n",
              "    .dataframe tbody tr th:only-of-type {\n",
              "        vertical-align: middle;\n",
              "    }\n",
              "\n",
              "    .dataframe tbody tr th {\n",
              "        vertical-align: top;\n",
              "    }\n",
              "\n",
              "    .dataframe thead th {\n",
              "        text-align: right;\n",
              "    }\n",
              "</style>\n",
              "<table border=\"1\" class=\"dataframe\">\n",
              "  <thead>\n",
              "    <tr style=\"text-align: right;\">\n",
              "      <th></th>\n",
              "      <th>Sentences</th>\n",
              "    </tr>\n",
              "  </thead>\n",
              "  <tbody>\n",
              "    <tr>\n",
              "      <th>0</th>\n",
              "      <td>Many problems underscored by the Coronavirus D...</td>\n",
              "    </tr>\n",
              "    <tr>\n",
              "      <th>1</th>\n",
              "      <td>Three decades ago HIV presented an urgent com...</td>\n",
              "    </tr>\n",
              "    <tr>\n",
              "      <th>2</th>\n",
              "      <td>At the time lifesaving antiretroviral therapy...</td>\n",
              "    </tr>\n",
              "    <tr>\n",
              "      <th>3</th>\n",
              "      <td>g</td>\n",
              "    </tr>\n",
              "    <tr>\n",
              "      <th>4</th>\n",
              "      <td>quantitative HIV plasma RNA levels and genoty...</td>\n",
              "    </tr>\n",
              "    <tr>\n",
              "      <th>5</th>\n",
              "      <td>A few advocated a larger scope i</td>\n",
              "    </tr>\n",
              "    <tr>\n",
              "      <th>6</th>\n",
              "      <td>e</td>\n",
              "    </tr>\n",
              "    <tr>\n",
              "      <th>7</th>\n",
              "      <td>global progress on a wider range of health co...</td>\n",
              "    </tr>\n",
              "    <tr>\n",
              "      <th>8</th>\n",
              "      <td>e</td>\n",
              "    </tr>\n",
              "    <tr>\n",
              "      <th>9</th>\n",
              "      <td>emphasizing prevention only without treatment</td>\n",
              "    </tr>\n",
              "  </tbody>\n",
              "</table>\n",
              "</div>"
            ],
            "text/plain": [
              "                                           Sentences\n",
              "0  Many problems underscored by the Coronavirus D...\n",
              "1   Three decades ago HIV presented an urgent com...\n",
              "2   At the time lifesaving antiretroviral therapy...\n",
              "3                                                  g\n",
              "4   quantitative HIV plasma RNA levels and genoty...\n",
              "5                   A few advocated a larger scope i\n",
              "6                                                  e\n",
              "7   global progress on a wider range of health co...\n",
              "8                                                  e\n",
              "9      emphasizing prevention only without treatment"
            ]
          },
          "metadata": {},
          "execution_count": 6
        }
      ]
    },
    {
      "cell_type": "code",
      "metadata": {
        "id": "9aRfVHZXIOsD"
      },
      "source": [
        "import seaborn as sns\n",
        "import re\n",
        "import os\n",
        "import sys\n",
        "from vaderSentiment.vaderSentiment import SentimentIntensityAnalyzer\n",
        "plt.style.use('fivethirtyeight')\n",
        "# Function for getting the sentiment\n",
        "cp = sns.color_palette()\n",
        "\n",
        "analyzer = SentimentIntensityAnalyzer()"
      ],
      "execution_count": null,
      "outputs": []
    },
    {
      "cell_type": "code",
      "metadata": {
        "id": "nKL9ztoFIRm0",
        "colab": {
          "base_uri": "https://localhost:8080/",
          "height": 359
        },
        "outputId": "11c8311c-4162-4b7c-9a2f-064aa41a613b"
      },
      "source": [
        "emptyline=[]\n",
        "for row in df_t2['Sentences']: \n",
        "  vs = analyzer.polarity_scores(row) \n",
        "  emptyline.append(vs)\n",
        "# Creating new dataframe with sentiments\n",
        "df_sentiments=pd.DataFrame(emptyline)\n",
        "df_sentiments"
      ],
      "execution_count": null,
      "outputs": [
        {
          "output_type": "execute_result",
          "data": {
            "text/html": [
              "<div>\n",
              "<style scoped>\n",
              "    .dataframe tbody tr th:only-of-type {\n",
              "        vertical-align: middle;\n",
              "    }\n",
              "\n",
              "    .dataframe tbody tr th {\n",
              "        vertical-align: top;\n",
              "    }\n",
              "\n",
              "    .dataframe thead th {\n",
              "        text-align: right;\n",
              "    }\n",
              "</style>\n",
              "<table border=\"1\" class=\"dataframe\">\n",
              "  <thead>\n",
              "    <tr style=\"text-align: right;\">\n",
              "      <th></th>\n",
              "      <th>neg</th>\n",
              "      <th>neu</th>\n",
              "      <th>pos</th>\n",
              "      <th>compound</th>\n",
              "    </tr>\n",
              "  </thead>\n",
              "  <tbody>\n",
              "    <tr>\n",
              "      <th>0</th>\n",
              "      <td>0.200</td>\n",
              "      <td>0.800</td>\n",
              "      <td>0.000</td>\n",
              "      <td>-0.7184</td>\n",
              "    </tr>\n",
              "    <tr>\n",
              "      <th>1</th>\n",
              "      <td>0.287</td>\n",
              "      <td>0.585</td>\n",
              "      <td>0.129</td>\n",
              "      <td>-0.7506</td>\n",
              "    </tr>\n",
              "    <tr>\n",
              "      <th>2</th>\n",
              "      <td>0.000</td>\n",
              "      <td>0.882</td>\n",
              "      <td>0.118</td>\n",
              "      <td>0.5574</td>\n",
              "    </tr>\n",
              "    <tr>\n",
              "      <th>3</th>\n",
              "      <td>0.000</td>\n",
              "      <td>1.000</td>\n",
              "      <td>0.000</td>\n",
              "      <td>0.0000</td>\n",
              "    </tr>\n",
              "    <tr>\n",
              "      <th>4</th>\n",
              "      <td>0.000</td>\n",
              "      <td>1.000</td>\n",
              "      <td>0.000</td>\n",
              "      <td>0.0000</td>\n",
              "    </tr>\n",
              "    <tr>\n",
              "      <th>5</th>\n",
              "      <td>0.000</td>\n",
              "      <td>1.000</td>\n",
              "      <td>0.000</td>\n",
              "      <td>0.0000</td>\n",
              "    </tr>\n",
              "    <tr>\n",
              "      <th>6</th>\n",
              "      <td>0.000</td>\n",
              "      <td>1.000</td>\n",
              "      <td>0.000</td>\n",
              "      <td>0.0000</td>\n",
              "    </tr>\n",
              "    <tr>\n",
              "      <th>7</th>\n",
              "      <td>0.000</td>\n",
              "      <td>0.762</td>\n",
              "      <td>0.238</td>\n",
              "      <td>0.6124</td>\n",
              "    </tr>\n",
              "    <tr>\n",
              "      <th>8</th>\n",
              "      <td>0.000</td>\n",
              "      <td>1.000</td>\n",
              "      <td>0.000</td>\n",
              "      <td>0.0000</td>\n",
              "    </tr>\n",
              "    <tr>\n",
              "      <th>9</th>\n",
              "      <td>0.000</td>\n",
              "      <td>1.000</td>\n",
              "      <td>0.000</td>\n",
              "      <td>0.0000</td>\n",
              "    </tr>\n",
              "  </tbody>\n",
              "</table>\n",
              "</div>"
            ],
            "text/plain": [
              "     neg    neu    pos  compound\n",
              "0  0.200  0.800  0.000   -0.7184\n",
              "1  0.287  0.585  0.129   -0.7506\n",
              "2  0.000  0.882  0.118    0.5574\n",
              "3  0.000  1.000  0.000    0.0000\n",
              "4  0.000  1.000  0.000    0.0000\n",
              "5  0.000  1.000  0.000    0.0000\n",
              "6  0.000  1.000  0.000    0.0000\n",
              "7  0.000  0.762  0.238    0.6124\n",
              "8  0.000  1.000  0.000    0.0000\n",
              "9  0.000  1.000  0.000    0.0000"
            ]
          },
          "metadata": {},
          "execution_count": 8
        }
      ]
    },
    {
      "cell_type": "code",
      "metadata": {
        "id": "m0sHrpSNmWeR",
        "colab": {
          "base_uri": "https://localhost:8080/",
          "height": 359
        },
        "outputId": "086554b2-7e9b-4bb8-86a1-8db5b45be979"
      },
      "source": [
        "# Merging the sentiments back to the origional  dataframe\n",
        "df_c = pd.concat([df.reset_index(drop=True), df_sentiments], axis=1)\n",
        "df_c"
      ],
      "execution_count": null,
      "outputs": [
        {
          "output_type": "execute_result",
          "data": {
            "text/html": [
              "<div>\n",
              "<style scoped>\n",
              "    .dataframe tbody tr th:only-of-type {\n",
              "        vertical-align: middle;\n",
              "    }\n",
              "\n",
              "    .dataframe tbody tr th {\n",
              "        vertical-align: top;\n",
              "    }\n",
              "\n",
              "    .dataframe thead th {\n",
              "        text-align: right;\n",
              "    }\n",
              "</style>\n",
              "<table border=\"1\" class=\"dataframe\">\n",
              "  <thead>\n",
              "    <tr style=\"text-align: right;\">\n",
              "      <th></th>\n",
              "      <th>Sentences</th>\n",
              "      <th>neg</th>\n",
              "      <th>neu</th>\n",
              "      <th>pos</th>\n",
              "      <th>compound</th>\n",
              "    </tr>\n",
              "  </thead>\n",
              "  <tbody>\n",
              "    <tr>\n",
              "      <th>0</th>\n",
              "      <td>Many problems underscored by the Coronavirus D...</td>\n",
              "      <td>0.200</td>\n",
              "      <td>0.800</td>\n",
              "      <td>0.000</td>\n",
              "      <td>-0.7184</td>\n",
              "    </tr>\n",
              "    <tr>\n",
              "      <th>1</th>\n",
              "      <td>Three decades ago HIV presented an urgent com...</td>\n",
              "      <td>0.287</td>\n",
              "      <td>0.585</td>\n",
              "      <td>0.129</td>\n",
              "      <td>-0.7506</td>\n",
              "    </tr>\n",
              "    <tr>\n",
              "      <th>2</th>\n",
              "      <td>At the time lifesaving antiretroviral therapy...</td>\n",
              "      <td>0.000</td>\n",
              "      <td>0.882</td>\n",
              "      <td>0.118</td>\n",
              "      <td>0.5574</td>\n",
              "    </tr>\n",
              "    <tr>\n",
              "      <th>3</th>\n",
              "      <td>g</td>\n",
              "      <td>0.000</td>\n",
              "      <td>1.000</td>\n",
              "      <td>0.000</td>\n",
              "      <td>0.0000</td>\n",
              "    </tr>\n",
              "    <tr>\n",
              "      <th>4</th>\n",
              "      <td>quantitative HIV plasma RNA levels and genoty...</td>\n",
              "      <td>0.000</td>\n",
              "      <td>1.000</td>\n",
              "      <td>0.000</td>\n",
              "      <td>0.0000</td>\n",
              "    </tr>\n",
              "    <tr>\n",
              "      <th>5</th>\n",
              "      <td>A few advocated a larger scope i</td>\n",
              "      <td>0.000</td>\n",
              "      <td>1.000</td>\n",
              "      <td>0.000</td>\n",
              "      <td>0.0000</td>\n",
              "    </tr>\n",
              "    <tr>\n",
              "      <th>6</th>\n",
              "      <td>e</td>\n",
              "      <td>0.000</td>\n",
              "      <td>1.000</td>\n",
              "      <td>0.000</td>\n",
              "      <td>0.0000</td>\n",
              "    </tr>\n",
              "    <tr>\n",
              "      <th>7</th>\n",
              "      <td>global progress on a wider range of health co...</td>\n",
              "      <td>0.000</td>\n",
              "      <td>0.762</td>\n",
              "      <td>0.238</td>\n",
              "      <td>0.6124</td>\n",
              "    </tr>\n",
              "    <tr>\n",
              "      <th>8</th>\n",
              "      <td>e</td>\n",
              "      <td>0.000</td>\n",
              "      <td>1.000</td>\n",
              "      <td>0.000</td>\n",
              "      <td>0.0000</td>\n",
              "    </tr>\n",
              "    <tr>\n",
              "      <th>9</th>\n",
              "      <td>emphasizing prevention only without treatment</td>\n",
              "      <td>0.000</td>\n",
              "      <td>1.000</td>\n",
              "      <td>0.000</td>\n",
              "      <td>0.0000</td>\n",
              "    </tr>\n",
              "  </tbody>\n",
              "</table>\n",
              "</div>"
            ],
            "text/plain": [
              "                                           Sentences    neg  ...    pos  compound\n",
              "0  Many problems underscored by the Coronavirus D...  0.200  ...  0.000   -0.7184\n",
              "1   Three decades ago HIV presented an urgent com...  0.287  ...  0.129   -0.7506\n",
              "2   At the time lifesaving antiretroviral therapy...  0.000  ...  0.118    0.5574\n",
              "3                                                  g  0.000  ...  0.000    0.0000\n",
              "4   quantitative HIV plasma RNA levels and genoty...  0.000  ...  0.000    0.0000\n",
              "5                   A few advocated a larger scope i  0.000  ...  0.000    0.0000\n",
              "6                                                  e  0.000  ...  0.000    0.0000\n",
              "7   global progress on a wider range of health co...  0.000  ...  0.238    0.6124\n",
              "8                                                  e  0.000  ...  0.000    0.0000\n",
              "9      emphasizing prevention only without treatment  0.000  ...  0.000    0.0000\n",
              "\n",
              "[10 rows x 5 columns]"
            ]
          },
          "metadata": {},
          "execution_count": 9
        }
      ]
    },
    {
      "cell_type": "code",
      "metadata": {
        "id": "smmV-2Z5mF5T",
        "colab": {
          "base_uri": "https://localhost:8080/",
          "height": 359
        },
        "outputId": "fad04bf5-7ea3-48d0-b56d-59a0f4014da0"
      },
      "source": [
        "# Convert scores into positive and negetive sentiments using some threshold\n",
        "df_c['Sentiment'] = np.where(df_c['compound'] >= 0 , 'Positive','Negative')\n",
        "df_c"
      ],
      "execution_count": null,
      "outputs": [
        {
          "output_type": "execute_result",
          "data": {
            "text/html": [
              "<div>\n",
              "<style scoped>\n",
              "    .dataframe tbody tr th:only-of-type {\n",
              "        vertical-align: middle;\n",
              "    }\n",
              "\n",
              "    .dataframe tbody tr th {\n",
              "        vertical-align: top;\n",
              "    }\n",
              "\n",
              "    .dataframe thead th {\n",
              "        text-align: right;\n",
              "    }\n",
              "</style>\n",
              "<table border=\"1\" class=\"dataframe\">\n",
              "  <thead>\n",
              "    <tr style=\"text-align: right;\">\n",
              "      <th></th>\n",
              "      <th>Sentences</th>\n",
              "      <th>neg</th>\n",
              "      <th>neu</th>\n",
              "      <th>pos</th>\n",
              "      <th>compound</th>\n",
              "      <th>Sentiment</th>\n",
              "    </tr>\n",
              "  </thead>\n",
              "  <tbody>\n",
              "    <tr>\n",
              "      <th>0</th>\n",
              "      <td>Many problems underscored by the Coronavirus D...</td>\n",
              "      <td>0.200</td>\n",
              "      <td>0.800</td>\n",
              "      <td>0.000</td>\n",
              "      <td>-0.7184</td>\n",
              "      <td>Negative</td>\n",
              "    </tr>\n",
              "    <tr>\n",
              "      <th>1</th>\n",
              "      <td>Three decades ago HIV presented an urgent com...</td>\n",
              "      <td>0.287</td>\n",
              "      <td>0.585</td>\n",
              "      <td>0.129</td>\n",
              "      <td>-0.7506</td>\n",
              "      <td>Negative</td>\n",
              "    </tr>\n",
              "    <tr>\n",
              "      <th>2</th>\n",
              "      <td>At the time lifesaving antiretroviral therapy...</td>\n",
              "      <td>0.000</td>\n",
              "      <td>0.882</td>\n",
              "      <td>0.118</td>\n",
              "      <td>0.5574</td>\n",
              "      <td>Positive</td>\n",
              "    </tr>\n",
              "    <tr>\n",
              "      <th>3</th>\n",
              "      <td>g</td>\n",
              "      <td>0.000</td>\n",
              "      <td>1.000</td>\n",
              "      <td>0.000</td>\n",
              "      <td>0.0000</td>\n",
              "      <td>Positive</td>\n",
              "    </tr>\n",
              "    <tr>\n",
              "      <th>4</th>\n",
              "      <td>quantitative HIV plasma RNA levels and genoty...</td>\n",
              "      <td>0.000</td>\n",
              "      <td>1.000</td>\n",
              "      <td>0.000</td>\n",
              "      <td>0.0000</td>\n",
              "      <td>Positive</td>\n",
              "    </tr>\n",
              "    <tr>\n",
              "      <th>5</th>\n",
              "      <td>A few advocated a larger scope i</td>\n",
              "      <td>0.000</td>\n",
              "      <td>1.000</td>\n",
              "      <td>0.000</td>\n",
              "      <td>0.0000</td>\n",
              "      <td>Positive</td>\n",
              "    </tr>\n",
              "    <tr>\n",
              "      <th>6</th>\n",
              "      <td>e</td>\n",
              "      <td>0.000</td>\n",
              "      <td>1.000</td>\n",
              "      <td>0.000</td>\n",
              "      <td>0.0000</td>\n",
              "      <td>Positive</td>\n",
              "    </tr>\n",
              "    <tr>\n",
              "      <th>7</th>\n",
              "      <td>global progress on a wider range of health co...</td>\n",
              "      <td>0.000</td>\n",
              "      <td>0.762</td>\n",
              "      <td>0.238</td>\n",
              "      <td>0.6124</td>\n",
              "      <td>Positive</td>\n",
              "    </tr>\n",
              "    <tr>\n",
              "      <th>8</th>\n",
              "      <td>e</td>\n",
              "      <td>0.000</td>\n",
              "      <td>1.000</td>\n",
              "      <td>0.000</td>\n",
              "      <td>0.0000</td>\n",
              "      <td>Positive</td>\n",
              "    </tr>\n",
              "    <tr>\n",
              "      <th>9</th>\n",
              "      <td>emphasizing prevention only without treatment</td>\n",
              "      <td>0.000</td>\n",
              "      <td>1.000</td>\n",
              "      <td>0.000</td>\n",
              "      <td>0.0000</td>\n",
              "      <td>Positive</td>\n",
              "    </tr>\n",
              "  </tbody>\n",
              "</table>\n",
              "</div>"
            ],
            "text/plain": [
              "                                           Sentences    neg  ...  compound  Sentiment\n",
              "0  Many problems underscored by the Coronavirus D...  0.200  ...   -0.7184   Negative\n",
              "1   Three decades ago HIV presented an urgent com...  0.287  ...   -0.7506   Negative\n",
              "2   At the time lifesaving antiretroviral therapy...  0.000  ...    0.5574   Positive\n",
              "3                                                  g  0.000  ...    0.0000   Positive\n",
              "4   quantitative HIV plasma RNA levels and genoty...  0.000  ...    0.0000   Positive\n",
              "5                   A few advocated a larger scope i  0.000  ...    0.0000   Positive\n",
              "6                                                  e  0.000  ...    0.0000   Positive\n",
              "7   global progress on a wider range of health co...  0.000  ...    0.6124   Positive\n",
              "8                                                  e  0.000  ...    0.0000   Positive\n",
              "9      emphasizing prevention only without treatment  0.000  ...    0.0000   Positive\n",
              "\n",
              "[10 rows x 6 columns]"
            ]
          },
          "metadata": {},
          "execution_count": 10
        }
      ]
    },
    {
      "cell_type": "code",
      "metadata": {
        "colab": {
          "base_uri": "https://localhost:8080/",
          "height": 282
        },
        "id": "Q22IvQQ2IX7a",
        "outputId": "8262fb3f-8930-4e5f-fe94-46ebe1d47222"
      },
      "source": [
        "result=df_c['Sentiment'].value_counts()\n",
        "result.plot(kind='bar', rot=0,colormap ='Set3' );"
      ],
      "execution_count": null,
      "outputs": [
        {
          "output_type": "display_data",
          "data": {
            "image/png": "[encoded data removed]",
            "text/plain": [
              "<Figure size 432x288 with 1 Axes>"
            ]
          },
          "metadata": {}
        }
      ]
    },
    {
      "cell_type": "code",
      "metadata": {
        "colab": {
          "base_uri": "https://localhost:8080/",
          "height": 299
        },
        "id": "5KtB3k5b6DFF",
        "outputId": "c467bbf3-e64d-4d4d-f1fd-f8909acd9f21"
      },
      "source": [
        "#Sample code snippet\n",
        "result=df_c.groupby(df_t2.index)['Sentiment'].value_counts().unstack()\n",
        "result[['Negative','Positive']].plot(kind='bar',rot=0,color='rb')"
      ],
      "execution_count": null,
      "outputs": [
        {
          "output_type": "execute_result",
          "data": {
            "text/plain": [
              "<matplotlib.axes._subplots.AxesSubplot at 0x7f236ff4e410>"
            ]
          },
          "metadata": {},
          "execution_count": 14
        },
        {
          "output_type": "display_data",
          "data": {
            "image/png": "[encoded data removed]",
            "text/plain": [
              "<Figure size 432x288 with 1 Axes>"
            ]
          },
          "metadata": {}
        }
      ]
    },
    {
      "cell_type": "code",
      "metadata": {
        "colab": {
          "base_uri": "https://localhost:8080/"
        },
        "id": "l6iL8PdOL_Jp",
        "outputId": "81a1cf32-9f49-4cea-ecdf-df6612deed36"
      },
      "source": [
        "df_c['Sentiment'].value_counts(normalize=True)\n",
        "print(\"El grado final is 80% positivo y 20% Negativo \")\n",
        "print(\"---\"*50)\n",
        "print(\"Casi Fiable\")"
      ],
      "execution_count": null,
      "outputs": [
        {
          "output_type": "stream",
          "name": "stdout",
          "text": [
            "El grado final is 80% positivo y 20% Negativo \n",
            "------------------------------------------------------------------------------------------------------------------------------------------------------\n",
            "Casi Fiable\n"
          ]
        }
      ]
    }
  ]
}